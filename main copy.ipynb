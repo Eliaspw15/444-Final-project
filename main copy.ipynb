{
 "cells": [
  {
   "cell_type": "markdown",
   "metadata": {},
   "source": [
    "# Final Project\n",
    "| Group 1:       |     |\n",
    "| -------------- | --- |\n",
    "| Student Names:             |UCIDs:|\n",
    "| Samiul Haque               |30169845|\n",
    "| Elias Poitras-Whitecalf    |30193066|\n",
    "| Ryan Graham                |30171130|\n",
    "\n"
   ]
  },
  {
   "cell_type": "markdown",
   "metadata": {},
   "source": [
    "### Imports\n"
   ]
  },
  {
   "cell_type": "code",
   "execution_count": null,
   "metadata": {},
   "outputs": [
    {
     "name": "stdout",
     "output_type": "stream",
     "text": [
      "Path to dataset files: /Users/eliaspw/.cache/kagglehub/datasets/evangora/premier-league-data/versions/1/matches.csv\n"
     ]
    }
   ],
   "source": [
    "import kagglehub\n",
    "import pandas as pd\n",
    "import seaborn as sns\n",
    "import numpy as np\n",
    "import sklearn\n",
    "import matplotlib\n",
    "import warnings\n",
    "from sklearn.pipeline import Pipeline\n",
    "from sklearn.compose import ColumnTransformer\n",
    "from sklearn.preprocessing import StandardScaler, OneHotEncoder\n",
    "import sklearn.model_selection as sk\n",
    "from sklearn.ensemble import GradientBoostingRegressor\n",
    "from sklearn.model_selection import GridSearchCV\n",
    "from sklearn.feature_extraction.text import CountVectorizer\n",
    "from sklearn.linear_model import LinearRegression\n",
    "from sklearn.model_selection import cross_validate\n",
    "from sklearn.metrics import accuracy_score\n",
    "from sklearn.feature_extraction.text import TfidfVectorizer\n",
    "from sklearn.neighbors import KNeighborsClassifier\n",
    "from sklearn.preprocessing import StandardScaler\n",
    "from dateutil.relativedelta import relativedelta\n",
    "from datetime import datetime\n",
    "warnings.filterwarnings('ignore') #ignoring some deprication warnings\n",
    "\n",
    "path = kagglehub.dataset_download(\"evangora/premier-league-data\")\n",
    "path += '/matches.csv'\n",
    "\n",
    "print(\"Path to dataset files:\", path)"
   ]
  },
  {
   "cell_type": "code",
   "execution_count": 32,
   "metadata": {},
   "outputs": [
    {
     "data": {
      "text/html": [
       "<div>\n",
       "<style scoped>\n",
       "    .dataframe tbody tr th:only-of-type {\n",
       "        vertical-align: middle;\n",
       "    }\n",
       "\n",
       "    .dataframe tbody tr th {\n",
       "        vertical-align: top;\n",
       "    }\n",
       "\n",
       "    .dataframe thead th {\n",
       "        text-align: right;\n",
       "    }\n",
       "</style>\n",
       "<table border=\"1\" class=\"dataframe\">\n",
       "  <thead>\n",
       "    <tr style=\"text-align: right;\">\n",
       "      <th></th>\n",
       "      <th>Unnamed: 0</th>\n",
       "      <th>Season</th>\n",
       "      <th>Date</th>\n",
       "      <th>Home</th>\n",
       "      <th>xG</th>\n",
       "      <th>Home Goals</th>\n",
       "      <th>Away Goals</th>\n",
       "      <th>xG.1</th>\n",
       "      <th>Away</th>\n",
       "      <th>Attendance</th>\n",
       "      <th>Venue</th>\n",
       "    </tr>\n",
       "  </thead>\n",
       "  <tbody>\n",
       "    <tr>\n",
       "      <th>0</th>\n",
       "      <td>0</td>\n",
       "      <td>2023/2024</td>\n",
       "      <td>2023-08-11</td>\n",
       "      <td>Burnley</td>\n",
       "      <td>0.3</td>\n",
       "      <td>0.0</td>\n",
       "      <td>3.0</td>\n",
       "      <td>1.9</td>\n",
       "      <td>Manchester City</td>\n",
       "      <td>21572.0</td>\n",
       "      <td>Turf Moor</td>\n",
       "    </tr>\n",
       "    <tr>\n",
       "      <th>1</th>\n",
       "      <td>1</td>\n",
       "      <td>2023/2024</td>\n",
       "      <td>2023-08-12</td>\n",
       "      <td>Arsenal</td>\n",
       "      <td>0.8</td>\n",
       "      <td>2.0</td>\n",
       "      <td>1.0</td>\n",
       "      <td>1.2</td>\n",
       "      <td>Nott'ham Forest</td>\n",
       "      <td>59984.0</td>\n",
       "      <td>Emirates Stadium</td>\n",
       "    </tr>\n",
       "    <tr>\n",
       "      <th>2</th>\n",
       "      <td>2</td>\n",
       "      <td>2023/2024</td>\n",
       "      <td>2023-08-12</td>\n",
       "      <td>Everton</td>\n",
       "      <td>2.7</td>\n",
       "      <td>0.0</td>\n",
       "      <td>1.0</td>\n",
       "      <td>1.5</td>\n",
       "      <td>Fulham</td>\n",
       "      <td>39940.0</td>\n",
       "      <td>Goodison Park</td>\n",
       "    </tr>\n",
       "    <tr>\n",
       "      <th>3</th>\n",
       "      <td>3</td>\n",
       "      <td>2023/2024</td>\n",
       "      <td>2023-08-12</td>\n",
       "      <td>Sheffield Utd</td>\n",
       "      <td>0.5</td>\n",
       "      <td>0.0</td>\n",
       "      <td>1.0</td>\n",
       "      <td>1.9</td>\n",
       "      <td>Crystal Palace</td>\n",
       "      <td>31194.0</td>\n",
       "      <td>Bramall Lane</td>\n",
       "    </tr>\n",
       "    <tr>\n",
       "      <th>4</th>\n",
       "      <td>4</td>\n",
       "      <td>2023/2024</td>\n",
       "      <td>2023-08-12</td>\n",
       "      <td>Brighton</td>\n",
       "      <td>4.0</td>\n",
       "      <td>4.0</td>\n",
       "      <td>1.0</td>\n",
       "      <td>1.5</td>\n",
       "      <td>Luton Town</td>\n",
       "      <td>31872.0</td>\n",
       "      <td>The American Express Community Stadium</td>\n",
       "    </tr>\n",
       "  </tbody>\n",
       "</table>\n",
       "</div>"
      ],
      "text/plain": [
       "   Unnamed: 0     Season        Date           Home   xG  Home Goals  \\\n",
       "0           0  2023/2024  2023-08-11        Burnley  0.3         0.0   \n",
       "1           1  2023/2024  2023-08-12        Arsenal  0.8         2.0   \n",
       "2           2  2023/2024  2023-08-12        Everton  2.7         0.0   \n",
       "3           3  2023/2024  2023-08-12  Sheffield Utd  0.5         0.0   \n",
       "4           4  2023/2024  2023-08-12       Brighton  4.0         4.0   \n",
       "\n",
       "   Away Goals  xG.1             Away  Attendance  \\\n",
       "0         3.0   1.9  Manchester City     21572.0   \n",
       "1         1.0   1.2  Nott'ham Forest     59984.0   \n",
       "2         1.0   1.5           Fulham     39940.0   \n",
       "3         1.0   1.9   Crystal Palace     31194.0   \n",
       "4         1.0   1.5       Luton Town     31872.0   \n",
       "\n",
       "                                    Venue  \n",
       "0                               Turf Moor  \n",
       "1                        Emirates Stadium  \n",
       "2                           Goodison Park  \n",
       "3                            Bramall Lane  \n",
       "4  The American Express Community Stadium  "
      ]
     },
     "execution_count": 32,
     "metadata": {},
     "output_type": "execute_result"
    }
   ],
   "source": [
    "data = pd.read_csv(path)\n",
    "data.head()"
   ]
  },
  {
   "cell_type": "markdown",
   "metadata": {},
   "source": [
    "### Data Cleaning"
   ]
  },
  {
   "cell_type": "code",
   "execution_count": null,
   "metadata": {},
   "outputs": [
    {
     "name": "stdout",
     "output_type": "stream",
     "text": [
      "Original dataset shape: (60529, 11)\n",
      "Filtered dataset shape (last 30 years): (11482, 11)\n",
      "Date          datetime64[ns]\n",
      "Home                  object\n",
      "xG                   float64\n",
      "Home Goals           float64\n",
      "Away Goals           float64\n",
      "xG.1                 float64\n",
      "Away                  object\n",
      "Attendance           float64\n",
      "Venue                 object\n",
      "dtype: object\n",
      "Date             0\n",
      "Home             0\n",
      "xG            8822\n",
      "Home Goals       0\n",
      "Away Goals       0\n",
      "xG.1          8822\n",
      "Away             0\n",
      "Attendance     960\n",
      "Venue            0\n",
      "dtype: int64\n"
     ]
    }
   ],
   "source": [
    "data['Date'] = pd.to_datetime(data['Date'], errors='coerce')\n",
    "print(\"Original dataset shape:\", data.shape)\n",
    "max_date = data['Date'].max()\n",
    "min_date = max_date - relativedelta(years=10) #only want the most recent 30 years of data\n",
    "\n",
    "data = data[data['Date'] >= min_date]\n",
    "print(\"Filtered dataset shape (last 10 years):\", data.shape)\n",
    "\n",
    "data = data.drop(['Unnamed: 0','Season'], axis=1) #these columns not needed for our models\n",
    "print(data.dtypes)\n",
    "print(data.isnull().sum()) "
   ]
  },
  {
   "cell_type": "markdown",
   "metadata": {},
   "source": [
    "### KNN\n"
   ]
  },
  {
   "cell_type": "code",
   "execution_count": null,
   "metadata": {},
   "outputs": [],
   "source": []
  },
  {
   "cell_type": "markdown",
   "metadata": {},
   "source": [
    "### Gradient Boosted Forest"
   ]
  },
  {
   "cell_type": "code",
   "execution_count": null,
   "metadata": {},
   "outputs": [],
   "source": []
  },
  {
   "cell_type": "markdown",
   "metadata": {},
   "source": [
    "### Linear Regression"
   ]
  },
  {
   "cell_type": "code",
   "execution_count": null,
   "metadata": {},
   "outputs": [],
   "source": []
  }
 ],
 "metadata": {
  "kernelspec": {
   "display_name": "Python 3",
   "language": "python",
   "name": "python3"
  },
  "language_info": {
   "codemirror_mode": {
    "name": "ipython",
    "version": 3
   },
   "file_extension": ".py",
   "mimetype": "text/x-python",
   "name": "python",
   "nbconvert_exporter": "python",
   "pygments_lexer": "ipython3",
   "version": "3.12.0"
  }
 },
 "nbformat": 4,
 "nbformat_minor": 2
}
